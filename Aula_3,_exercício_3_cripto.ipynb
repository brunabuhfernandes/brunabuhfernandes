{
  "nbformat": 4,
  "nbformat_minor": 0,
  "metadata": {
    "colab": {
      "provenance": [],
      "authorship_tag": "ABX9TyNgbjTxY9xslzbkRS0y01Zr",
      "include_colab_link": true
    },
    "kernelspec": {
      "name": "python3",
      "display_name": "Python 3"
    },
    "language_info": {
      "name": "python"
    }
  },
  "cells": [
    {
      "cell_type": "markdown",
      "metadata": {
        "id": "view-in-github",
        "colab_type": "text"
      },
      "source": [
        "<a href=\"https://colab.research.google.com/github/brunabuhfernandes/brunabuhfernandes/blob/main/Aula_3%2C_exerc%C3%ADcio_3_cripto.ipynb\" target=\"_parent\"><img src=\"https://colab.research.google.com/assets/colab-badge.svg\" alt=\"Open In Colab\"/></a>"
      ]
    },
    {
      "cell_type": "code",
      "execution_count": null,
      "metadata": {
        "id": "kt6bGtBlnN3l"
      },
      "outputs": [],
      "source": [
        "def cesar_variacao(texto, k):\n",
        "    resultado = \"\"\n",
        "    for char in texto:\n",
        "        if char.islower():\n",
        "            char = char.upper()\n",
        "        if char.isalpha():\n",
        "            novo_char = chr(((ord(char) - ord('A') + k) % 26) + ord('A'))\n",
        "        else:\n",
        "            novo_char = char\n",
        "        resultado += novo_char\n",
        "    return resultado\n",
        "\n"
      ]
    },
    {
      "cell_type": "code",
      "source": [
        "def cesar_variacao(texto, k):\n",
        "    return \"\".join(chr(((ord(c.upper()) - 65 + k) % 26) + 65) if c.isalpha() and c.isascii() else c for c in texto)\n",
        "\n",
        "texto = \"Feriado\"\n",
        "k = 3\n",
        "print(\"Texto original:\", texto)\n",
        "print(\"Texto cifrado:\", cesar_variacao(texto, k))\n"
      ],
      "metadata": {
        "colab": {
          "base_uri": "https://localhost:8080/"
        },
        "id": "k6ZyUPOApNdh",
        "outputId": "59f1d149-00c5-449d-8256-e88733732f53"
      },
      "execution_count": 15,
      "outputs": [
        {
          "output_type": "stream",
          "name": "stdout",
          "text": [
            "Texto original: Feriado\n",
            "Texto cifrado: IHULDGR\n"
          ]
        }
      ]
    }
  ]
}